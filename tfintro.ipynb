{
  "nbformat": 4,
  "nbformat_minor": 0,
  "metadata": {
    "colab": {
      "name": "Untitled2.ipynb",
      "provenance": []
    },
    "kernelspec": {
      "name": "python3",
      "display_name": "Python 3"
    },
    "accelerator": "GPU"
  },
  "cells": [
    {
      "cell_type": "code",
      "metadata": {
        "id": "J0KB4ih5W9l9"
      },
      "source": [
        "import tensorflow as tf\r\n",
        "import numpy as np"
      ],
      "execution_count": 2,
      "outputs": []
    },
    {
      "cell_type": "code",
      "metadata": {
        "id": "WTo4_avyXEV1"
      },
      "source": [
        "from tensorflow.keras.datasets import mnist, cifar10\r\n",
        "(x, y), (x_val, y_val) = mnist.load_data()"
      ],
      "execution_count": 11,
      "outputs": []
    },
    {
      "cell_type": "code",
      "metadata": {
        "colab": {
          "base_uri": "https://localhost:8080/"
        },
        "id": "jlHASOIhXb0X",
        "outputId": "2dca7f7b-7370-4f1f-a243-51fd142293f9"
      },
      "source": [
        "x.shape"
      ],
      "execution_count": 5,
      "outputs": [
        {
          "output_type": "execute_result",
          "data": {
            "text/plain": [
              "(60000, 28, 28)"
            ]
          },
          "metadata": {
            "tags": []
          },
          "execution_count": 5
        }
      ]
    },
    {
      "cell_type": "code",
      "metadata": {
        "colab": {
          "base_uri": "https://localhost:8080/",
          "height": 298
        },
        "id": "KG_iMSF1Xmdn",
        "outputId": "609c9693-e88c-47ca-ecde-f25444abf3c9"
      },
      "source": [
        "import matplotlib.pyplot as plt\r\n",
        "plt.title(y[1])\r\n",
        "plt.imshow(x[1], cmap=\"gray\")"
      ],
      "execution_count": 7,
      "outputs": [
        {
          "output_type": "execute_result",
          "data": {
            "text/plain": [
              "<matplotlib.image.AxesImage at 0x7fd882e2bf60>"
            ]
          },
          "metadata": {
            "tags": []
          },
          "execution_count": 7
        },
        {
          "output_type": "display_data",
          "data": {
            "image/png": "[encoded data removed]",
            "text/plain": [
              "<Figure size 432x288 with 1 Axes>"
            ]
          },
          "metadata": {
            "tags": [],
            "needs_background": "light"
          }
        }
      ]
    },
    {
      "cell_type": "code",
      "metadata": {
        "id": "4TpeUevdXx20"
      },
      "source": [
        "x = x.astype('float32') / 255\r\n",
        "x_val = x_val.astype('float32') / 255"
      ],
      "execution_count": 12,
      "outputs": []
    },
    {
      "cell_type": "code",
      "metadata": {
        "colab": {
          "base_uri": "https://localhost:8080/"
        },
        "id": "PvXWM1n_X9e2",
        "outputId": "0d7234c9-df69-4283-b87b-fa0bf9f0f3f1"
      },
      "source": [
        "x.shape"
      ],
      "execution_count": 13,
      "outputs": [
        {
          "output_type": "execute_result",
          "data": {
            "text/plain": [
              "(60000, 28, 28)"
            ]
          },
          "metadata": {
            "tags": []
          },
          "execution_count": 13
        }
      ]
    },
    {
      "cell_type": "code",
      "metadata": {
        "id": "DZCOUENHYR-A"
      },
      "source": [
        "x = np.expand_dims(x, -1)\r\n",
        "x_val = np.expand_dims(x_val, -1)"
      ],
      "execution_count": 14,
      "outputs": []
    },
    {
      "cell_type": "code",
      "metadata": {
        "colab": {
          "base_uri": "https://localhost:8080/"
        },
        "id": "5hO-yTfHYbOL",
        "outputId": "64b2fa39-437e-4c98-fbb0-d47ee2595ad5"
      },
      "source": [
        "x.shape"
      ],
      "execution_count": 15,
      "outputs": [
        {
          "output_type": "execute_result",
          "data": {
            "text/plain": [
              "(60000, 28, 28, 1)"
            ]
          },
          "metadata": {
            "tags": []
          },
          "execution_count": 15
        }
      ]
    },
    {
      "cell_type": "code",
      "metadata": {
        "colab": {
          "base_uri": "https://localhost:8080/"
        },
        "id": "X86LUz1RYcnJ",
        "outputId": "54595580-3171-4c17-8069-52d63e760a7d"
      },
      "source": [
        "y.shape"
      ],
      "execution_count": 16,
      "outputs": [
        {
          "output_type": "execute_result",
          "data": {
            "text/plain": [
              "(60000,)"
            ]
          },
          "metadata": {
            "tags": []
          },
          "execution_count": 16
        }
      ]
    },
    {
      "cell_type": "markdown",
      "metadata": {
        "id": "q5sF6OjcYs7i"
      },
      "source": [
        "0 = [1, 0, 0, 0, 0, 0, 0, 0, 0, 0]\r\n",
        "1 = [0, 1, 0, 0, 0, 0, 0, 0, 0, 0]\r\n",
        "2 = [0, 0, 1, 0, 0, 0, 0, 0, 0, 0]"
      ]
    },
    {
      "cell_type": "code",
      "metadata": {
        "id": "cjLX53ZjYgFc"
      },
      "source": [
        "y = tf.keras.utils.to_categorical(y)\r\n",
        "y_val = tf.keras.utils.to_categorical(y_val)"
      ],
      "execution_count": 17,
      "outputs": []
    },
    {
      "cell_type": "code",
      "metadata": {
        "colab": {
          "base_uri": "https://localhost:8080/"
        },
        "id": "qU2eNGMnY1xL",
        "outputId": "79cd0998-821a-4730-c541-779a3f4de0da"
      },
      "source": [
        "y.shape"
      ],
      "execution_count": 18,
      "outputs": [
        {
          "output_type": "execute_result",
          "data": {
            "text/plain": [
              "(60000, 10)"
            ]
          },
          "metadata": {
            "tags": []
          },
          "execution_count": 18
        }
      ]
    },
    {
      "cell_type": "code",
      "metadata": {
        "id": "HN3V1-2xY2p8"
      },
      "source": [
        "from tensorflow.keras.models import Sequential\r\n",
        "from tensorflow.keras.layers import Dense, Flatten, Input, Conv2D, MaxPool2D"
      ],
      "execution_count": 28,
      "outputs": []
    },
    {
      "cell_type": "code",
      "metadata": {
        "id": "Zs99QVjiZYbv"
      },
      "source": [
        "model = Sequential([\r\n",
        "    Input(shape=(28, 28, 1)),\r\n",
        "    Conv2D(16, (3, 3), activation='relu'),\r\n",
        "    Conv2D(16, (3, 3), activation='relu'),\r\n",
        "    MaxPool2D((2, 2)),\r\n",
        "    Conv2D(16, (3, 3), activation='relu'),\r\n",
        "    Conv2D(16, (3, 3), activation='relu'),\r\n",
        "    MaxPool2D((2, 2)),\r\n",
        "    Flatten(),\r\n",
        "    Dense(128, activation='relu'),\r\n",
        "    Dense(128, activation='relu'),\r\n",
        "    Dense(128, activation='relu'),\r\n",
        "    Dense(10, activation='softmax')\r\n",
        "])"
      ],
      "execution_count": 32,
      "outputs": []
    },
    {
      "cell_type": "code",
      "metadata": {
        "id": "FDoGnoavamN9"
      },
      "source": [
        "model.compile(\r\n",
        "    loss='categorical_crossentropy',\r\n",
        "    optimizer='adam',\r\n",
        "    metrics=['accuracy']\r\n",
        ")"
      ],
      "execution_count": 33,
      "outputs": []
    },
    {
      "cell_type": "code",
      "metadata": {
        "colab": {
          "base_uri": "https://localhost:8080/"
        },
        "id": "0-Na9cGncN6H",
        "outputId": "24278b82-2713-4b3c-e534-edcb774b13b8"
      },
      "source": [
        "model.summary()"
      ],
      "execution_count": 34,
      "outputs": [
        {
          "output_type": "stream",
          "text": [
            "Model: \"sequential_3\"\n",
            "_________________________________________________________________\n",
            "Layer (type)                 Output Shape              Param #   \n",
            "=================================================================\n",
            "conv2d_4 (Conv2D)            (None, 26, 26, 16)        160       \n",
            "_________________________________________________________________\n",
            "conv2d_5 (Conv2D)            (None, 24, 24, 16)        2320      \n",
            "_________________________________________________________________\n",
            "max_pooling2d_1 (MaxPooling2 (None, 12, 12, 16)        0         \n",
            "_________________________________________________________________\n",
            "conv2d_6 (Conv2D)            (None, 10, 10, 16)        2320      \n",
            "_________________________________________________________________\n",
            "conv2d_7 (Conv2D)            (None, 8, 8, 16)          2320      \n",
            "_________________________________________________________________\n",
            "max_pooling2d_2 (MaxPooling2 (None, 4, 4, 16)          0         \n",
            "_________________________________________________________________\n",
            "flatten_3 (Flatten)          (None, 256)               0         \n",
            "_________________________________________________________________\n",
            "dense_12 (Dense)             (None, 128)               32896     \n",
            "_________________________________________________________________\n",
            "dense_13 (Dense)             (None, 128)               16512     \n",
            "_________________________________________________________________\n",
            "dense_14 (Dense)             (None, 128)               16512     \n",
            "_________________________________________________________________\n",
            "dense_15 (Dense)             (None, 10)                1290      \n",
            "=================================================================\n",
            "Total params: 74,330\n",
            "Trainable params: 74,330\n",
            "Non-trainable params: 0\n",
            "_________________________________________________________________\n"
          ],
          "name": "stdout"
        }
      ]
    },
    {
      "cell_type": "code",
      "metadata": {
        "colab": {
          "base_uri": "https://localhost:8080/"
        },
        "id": "V_Qk3cHEbEUf",
        "outputId": "cbf33c9d-dff1-4dca-d427-591d4b5611a6"
      },
      "source": [
        "model.fit(x, y, batch_size=32, epochs=10, validation_data=(x_val, y_val))"
      ],
      "execution_count": 35,
      "outputs": [
        {
          "output_type": "stream",
          "text": [
            "Epoch 1/10\n",
            "1875/1875 [==============================] - 12s 3ms/step - loss: 0.3783 - accuracy: 0.8753 - val_loss: 0.0558 - val_accuracy: 0.9830\n",
            "Epoch 2/10\n",
            "1875/1875 [==============================] - 6s 3ms/step - loss: 0.0617 - accuracy: 0.9808 - val_loss: 0.0578 - val_accuracy: 0.9838\n",
            "Epoch 3/10\n",
            "1875/1875 [==============================] - 6s 3ms/step - loss: 0.0474 - accuracy: 0.9855 - val_loss: 0.0387 - val_accuracy: 0.9868\n",
            "Epoch 4/10\n",
            "1875/1875 [==============================] - 6s 3ms/step - loss: 0.0375 - accuracy: 0.9884 - val_loss: 0.0317 - val_accuracy: 0.9905\n",
            "Epoch 5/10\n",
            "1875/1875 [==============================] - 6s 3ms/step - loss: 0.0293 - accuracy: 0.9913 - val_loss: 0.0336 - val_accuracy: 0.9904\n",
            "Epoch 6/10\n",
            "1875/1875 [==============================] - 6s 3ms/step - loss: 0.0267 - accuracy: 0.9918 - val_loss: 0.0322 - val_accuracy: 0.9909\n",
            "Epoch 7/10\n",
            "1875/1875 [==============================] - 6s 3ms/step - loss: 0.0194 - accuracy: 0.9941 - val_loss: 0.0390 - val_accuracy: 0.9887\n",
            "Epoch 8/10\n",
            "1875/1875 [==============================] - 6s 3ms/step - loss: 0.0177 - accuracy: 0.9944 - val_loss: 0.0312 - val_accuracy: 0.9908\n",
            "Epoch 9/10\n",
            "1875/1875 [==============================] - 6s 3ms/step - loss: 0.0170 - accuracy: 0.9948 - val_loss: 0.0414 - val_accuracy: 0.9887\n",
            "Epoch 10/10\n",
            "1875/1875 [==============================] - 6s 3ms/step - loss: 0.0150 - accuracy: 0.9956 - val_loss: 0.0383 - val_accuracy: 0.9904\n"
          ],
          "name": "stdout"
        },
        {
          "output_type": "execute_result",
          "data": {
            "text/plain": [
              "<tensorflow.python.keras.callbacks.History at 0x7fd87004c7b8>"
            ]
          },
          "metadata": {
            "tags": []
          },
          "execution_count": 35
        }
      ]
    },
    {
      "cell_type": "code",
      "metadata": {
        "colab": {
          "base_uri": "https://localhost:8080/"
        },
        "id": "nosGjelbeJK3",
        "outputId": "d1a7911f-a583-4231-c819-6939e34c5d87"
      },
      "source": [
        "prediction = model.predict(x_val[0:1])\r\n",
        "np.round(prediction)"
      ],
      "execution_count": 40,
      "outputs": [
        {
          "output_type": "execute_result",
          "data": {
            "text/plain": [
              "array([[0., 0., 0., 0., 0., 0., 0., 1., 0., 0.]], dtype=float32)"
            ]
          },
          "metadata": {
            "tags": []
          },
          "execution_count": 40
        }
      ]
    },
    {
      "cell_type": "code",
      "metadata": {
        "colab": {
          "base_uri": "https://localhost:8080/",
          "height": 282
        },
        "id": "ZJClJlNfeWhx",
        "outputId": "1e154bea-e927-4aee-ad0b-034ec1af87cb"
      },
      "source": [
        "plt.imshow(x_val[0,...,0], cmap=\"gray\")"
      ],
      "execution_count": 42,
      "outputs": [
        {
          "output_type": "execute_result",
          "data": {
            "text/plain": [
              "<matplotlib.image.AxesImage at 0x7fd81b328390>"
            ]
          },
          "metadata": {
            "tags": []
          },
          "execution_count": 42
        },
        {
          "output_type": "display_data",
          "data": {
            "image/png": "[encoded data removed]",
            "text/plain": [
              "<Figure size 432x288 with 1 Axes>"
            ]
          },
          "metadata": {
            "tags": [],
            "needs_background": "light"
          }
        }
      ]
    },
    {
      "cell_type": "code",
      "metadata": {
        "id": "3LmvPlv3epOi"
      },
      "source": [
        ""
      ],
      "execution_count": null,
      "outputs": []
    }
  ]
}