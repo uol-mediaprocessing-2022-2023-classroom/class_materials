{
  "nbformat": 4,
  "nbformat_minor": 0,
  "metadata": {
    "colab": {
      "name": "python-introduction.ipynb",
      "provenance": [],
      "collapsed_sections": [],
      "include_colab_link": true
    },
    "kernelspec": {
      "name": "python3",
      "display_name": "Python 3"
    }
  },
  "cells": [
    {
      "cell_type": "markdown",
      "metadata": {
        "id": "view-in-github",
        "colab_type": "text"
      },
      "source": [
        "<a href=\"https://colab.research.google.com/github/uol-mediaprocessing/notebooks/blob/master/1-python-introduction.ipynb\" target=\"_parent\"><img src=\"https://colab.research.google.com/assets/colab-badge.svg\" alt=\"Open In Colab\"/></a>"
      ]
    },
    {
      "cell_type": "markdown",
      "metadata": {
        "id": "57KQynln52P1",
        "colab_type": "text"
      },
      "source": [
        "# Introduction to Python"
      ]
    },
    {
      "cell_type": "code",
      "metadata": {
        "id": "ujT4L8DdtQ0W",
        "colab_type": "code",
        "outputId": "08505586-5b8d-4d8b-c364-84b2cc4c56ab",
        "colab": {
          "base_uri": "https://localhost:8080/",
          "height": 34
        }
      },
      "source": [
        "print(\"hello world\")"
      ],
      "execution_count": 0,
      "outputs": [
        {
          "output_type": "stream",
          "text": [
            "hello world\n"
          ],
          "name": "stdout"
        }
      ]
    },
    {
      "cell_type": "markdown",
      "metadata": {
        "id": "qTR2TwaR8Gcs",
        "colab_type": "text"
      },
      "source": [
        "In Python, we can define variables like this:"
      ]
    },
    {
      "cell_type": "code",
      "metadata": {
        "id": "pb1APxFR8NWA",
        "colab_type": "code",
        "colab": {}
      },
      "source": [
        "a = 10 # integer\n",
        "b = 5.0 # float\n",
        "c = \"hello world\" # string\n",
        "d = True # boolean\n",
        "e = [a, b, c, d] # list"
      ],
      "execution_count": 0,
      "outputs": []
    },
    {
      "cell_type": "markdown",
      "metadata": {
        "id": "kue9za7B-t51",
        "colab_type": "text"
      },
      "source": [
        "With the **type** operation, we can get the data type of a variable."
      ]
    },
    {
      "cell_type": "code",
      "metadata": {
        "id": "MdQjZ85u-iBk",
        "colab_type": "code",
        "outputId": "acdfa92d-52ad-4742-a060-19e8f4f78651",
        "colab": {
          "base_uri": "https://localhost:8080/",
          "height": 34
        }
      },
      "source": [
        "type(c)"
      ],
      "execution_count": 0,
      "outputs": [
        {
          "output_type": "execute_result",
          "data": {
            "text/plain": [
              "str"
            ]
          },
          "metadata": {
            "tags": []
          },
          "execution_count": 7
        }
      ]
    },
    {
      "cell_type": "markdown",
      "metadata": {
        "id": "GlwILfm2-_SL",
        "colab_type": "text"
      },
      "source": [
        "To cast a variable, we use the desired data type as a function:"
      ]
    },
    {
      "cell_type": "code",
      "metadata": {
        "id": "RaVby4Q4_HPt",
        "colab_type": "code",
        "outputId": "0937873f-2e20-4eca-fed6-2f9215a7295b",
        "colab": {
          "base_uri": "https://localhost:8080/",
          "height": 34
        }
      },
      "source": [
        "float(a)"
      ],
      "execution_count": 0,
      "outputs": [
        {
          "output_type": "execute_result",
          "data": {
            "text/plain": [
              "10.0"
            ]
          },
          "metadata": {
            "tags": []
          },
          "execution_count": 8
        }
      ]
    },
    {
      "cell_type": "markdown",
      "metadata": {
        "id": "4ovPgHZd8Uez",
        "colab_type": "text"
      },
      "source": [
        "There are several basic operations in Python:"
      ]
    },
    {
      "cell_type": "code",
      "metadata": {
        "id": "JfAawSVX8U-7",
        "colab_type": "code",
        "outputId": "d4b99b15-c597-4512-9dd7-fb9c505ffe25",
        "colab": {
          "base_uri": "https://localhost:8080/",
          "height": 34
        }
      },
      "source": [
        "# Addition\n",
        "a + b"
      ],
      "execution_count": 0,
      "outputs": [
        {
          "output_type": "execute_result",
          "data": {
            "text/plain": [
              "15.0"
            ]
          },
          "metadata": {
            "tags": []
          },
          "execution_count": 11
        }
      ]
    },
    {
      "cell_type": "code",
      "metadata": {
        "id": "yi2CJRWPBFFU",
        "colab_type": "code",
        "outputId": "facff032-9b6b-4b4f-8ba7-525ddc86b871",
        "colab": {
          "base_uri": "https://localhost:8080/",
          "height": 34
        }
      },
      "source": [
        "# Subtraction\n",
        "a - b"
      ],
      "execution_count": 0,
      "outputs": [
        {
          "output_type": "execute_result",
          "data": {
            "text/plain": [
              "5.0"
            ]
          },
          "metadata": {
            "tags": []
          },
          "execution_count": 12
        }
      ]
    },
    {
      "cell_type": "code",
      "metadata": {
        "id": "JFsj6GzJBI9k",
        "colab_type": "code",
        "outputId": "709ecbb6-c098-4861-88ee-5cf7d77818a4",
        "colab": {
          "base_uri": "https://localhost:8080/",
          "height": 34
        }
      },
      "source": [
        "# Multiplication\n",
        "a * b"
      ],
      "execution_count": 0,
      "outputs": [
        {
          "output_type": "execute_result",
          "data": {
            "text/plain": [
              "50.0"
            ]
          },
          "metadata": {
            "tags": []
          },
          "execution_count": 13
        }
      ]
    },
    {
      "cell_type": "code",
      "metadata": {
        "id": "z2eXBew7BP4J",
        "colab_type": "code",
        "outputId": "17d4915d-6f23-41c0-d12f-76fd4aa2a6a1",
        "colab": {
          "base_uri": "https://localhost:8080/",
          "height": 34
        }
      },
      "source": [
        "# Division\n",
        "a / b"
      ],
      "execution_count": 0,
      "outputs": [
        {
          "output_type": "execute_result",
          "data": {
            "text/plain": [
              "2.0"
            ]
          },
          "metadata": {
            "tags": []
          },
          "execution_count": 16
        }
      ]
    },
    {
      "cell_type": "code",
      "metadata": {
        "id": "qXASqRB5BWZq",
        "colab_type": "code",
        "outputId": "2f9fa367-c422-4dd8-8a91-56861b75f794",
        "colab": {
          "base_uri": "https://localhost:8080/",
          "height": 34
        }
      },
      "source": [
        "# Power\n",
        "a ** b"
      ],
      "execution_count": 0,
      "outputs": [
        {
          "output_type": "execute_result",
          "data": {
            "text/plain": [
              "100000.0"
            ]
          },
          "metadata": {
            "tags": []
          },
          "execution_count": 18
        }
      ]
    },
    {
      "cell_type": "code",
      "metadata": {
        "id": "-_dDdhcPBxkq",
        "colab_type": "code",
        "outputId": "4c0dcd43-ae0d-467e-c4ce-10f58b322a6f",
        "colab": {
          "base_uri": "https://localhost:8080/",
          "height": 34
        }
      },
      "source": [
        "# Modulus\n",
        "a % b"
      ],
      "execution_count": 0,
      "outputs": [
        {
          "output_type": "execute_result",
          "data": {
            "text/plain": [
              "0.0"
            ]
          },
          "metadata": {
            "tags": []
          },
          "execution_count": 19
        }
      ]
    },
    {
      "cell_type": "markdown",
      "metadata": {
        "id": "wt6763JUD7oA",
        "colab_type": "text"
      },
      "source": [
        "In Python, we define if operations like this. The indentation defines, where the block ends:"
      ]
    },
    {
      "cell_type": "code",
      "metadata": {
        "id": "y6eVzT0qB3Dz",
        "colab_type": "code",
        "outputId": "1e522480-76a2-46c9-9d93-6c8507c5e2b8",
        "colab": {
          "base_uri": "https://localhost:8080/",
          "height": 52
        }
      },
      "source": [
        "if a > 5:\n",
        "    print(\"inside if\")\n",
        "print(\"outside if\")"
      ],
      "execution_count": 0,
      "outputs": [
        {
          "output_type": "stream",
          "text": [
            "inside if\n",
            "outside if\n"
          ],
          "name": "stdout"
        }
      ]
    },
    {
      "cell_type": "markdown",
      "metadata": {
        "id": "Snsila8AGyKb",
        "colab_type": "text"
      },
      "source": [
        "To check if an element is inside a list, we can use the **in** operator:"
      ]
    },
    {
      "cell_type": "code",
      "metadata": {
        "id": "6pk3S2ZQIust",
        "colab_type": "code",
        "outputId": "16e0efc4-90c0-4417-d5d4-6a4337a9df7f",
        "colab": {
          "base_uri": "https://localhost:8080/",
          "height": 34
        }
      },
      "source": [
        "a in e"
      ],
      "execution_count": 0,
      "outputs": [
        {
          "output_type": "execute_result",
          "data": {
            "text/plain": [
              "True"
            ]
          },
          "metadata": {
            "tags": []
          },
          "execution_count": 21
        }
      ]
    },
    {
      "cell_type": "code",
      "metadata": {
        "id": "8eimLYRvR0a7",
        "colab_type": "code",
        "outputId": "c053ec07-61d0-4d6f-a84e-2077d481e664",
        "colab": {
          "base_uri": "https://localhost:8080/",
          "height": 34
        }
      },
      "source": [
        "a not in e"
      ],
      "execution_count": 0,
      "outputs": [
        {
          "output_type": "execute_result",
          "data": {
            "text/plain": [
              "False"
            ]
          },
          "metadata": {
            "tags": []
          },
          "execution_count": 28
        }
      ]
    },
    {
      "cell_type": "markdown",
      "metadata": {
        "id": "V5Y07DltI5Ch",
        "colab_type": "text"
      },
      "source": [
        "Similarly, we can define a for loop like this:"
      ]
    },
    {
      "cell_type": "code",
      "metadata": {
        "id": "r-Ivk8r1KQe0",
        "colab_type": "code",
        "outputId": "f3d0307b-fee6-48c9-f623-293dec0413b4",
        "colab": {
          "base_uri": "https://localhost:8080/",
          "height": 87
        }
      },
      "source": [
        "for x in e:\n",
        "    print(x)"
      ],
      "execution_count": 0,
      "outputs": [
        {
          "output_type": "stream",
          "text": [
            "10\n",
            "5.0\n",
            "hello world\n",
            "True\n"
          ],
          "name": "stdout"
        }
      ]
    },
    {
      "cell_type": "markdown",
      "metadata": {
        "id": "YwgSYfdiLEpN",
        "colab_type": "text"
      },
      "source": [
        "We define a while loop like this:"
      ]
    },
    {
      "cell_type": "code",
      "metadata": {
        "id": "iw57g8SrLDxI",
        "colab_type": "code",
        "outputId": "c8cdf6c9-8b38-47af-b303-818e7f6f6e6d",
        "colab": {
          "base_uri": "https://localhost:8080/",
          "height": 87
        }
      },
      "source": [
        "i = 0\n",
        "while True:\n",
        "    print(i)\n",
        "    i += 1\n",
        "    if i > 3:\n",
        "        break"
      ],
      "execution_count": 0,
      "outputs": [
        {
          "output_type": "stream",
          "text": [
            "0\n",
            "1\n",
            "2\n",
            "3\n"
          ],
          "name": "stdout"
        }
      ]
    },
    {
      "cell_type": "markdown",
      "metadata": {
        "id": "KHgtS21gPuyK",
        "colab_type": "text"
      },
      "source": [
        "Now, we can define a function like this:"
      ]
    },
    {
      "cell_type": "code",
      "metadata": {
        "id": "ZAd190097Kz4",
        "colab_type": "code",
        "outputId": "7d73f255-3f38-4834-b850-579709a04ff8",
        "colab": {
          "base_uri": "https://localhost:8080/",
          "height": 34
        }
      },
      "source": [
        "def say_hello_to(name):\n",
        "    print(\"hello\", name)\n",
        "\n",
        "say_hello_to(\"foo\")"
      ],
      "execution_count": 0,
      "outputs": [
        {
          "output_type": "stream",
          "text": [
            "hello foo\n"
          ],
          "name": "stdout"
        }
      ]
    },
    {
      "cell_type": "markdown",
      "metadata": {
        "id": "9qdkNe7maaQu",
        "colab_type": "text"
      },
      "source": [
        "# NumPy\n",
        "Normal Python lists are not efficient for numerical programming. \n",
        "\n",
        "NumPy contains a powerful N-dimensional array object that uses C/C++ for more efficient computation.\n"
      ]
    },
    {
      "cell_type": "code",
      "metadata": {
        "id": "sY4CNpT2ackS",
        "colab_type": "code",
        "colab": {}
      },
      "source": [
        "import numpy as np"
      ],
      "execution_count": 0,
      "outputs": []
    },
    {
      "cell_type": "markdown",
      "metadata": {
        "id": "LvnzPZEkroWf",
        "colab_type": "text"
      },
      "source": [
        "To convert a normal list to a NumPy array, we can use this function:"
      ]
    },
    {
      "cell_type": "code",
      "metadata": {
        "id": "TCEiV8fwrmUQ",
        "colab_type": "code",
        "colab": {
          "base_uri": "https://localhost:8080/",
          "height": 35
        },
        "outputId": "566de6d2-2000-4be9-8666-31ff00ea246d"
      },
      "source": [
        "python_list = [1, 2, 3]\n",
        "np_array = np.array(python_list)\n",
        "np_array"
      ],
      "execution_count": 5,
      "outputs": [
        {
          "output_type": "execute_result",
          "data": {
            "text/plain": [
              "array([1, 2, 3])"
            ]
          },
          "metadata": {
            "tags": []
          },
          "execution_count": 5
        }
      ]
    },
    {
      "cell_type": "markdown",
      "metadata": {
        "id": "inMuol7QsBnO",
        "colab_type": "text"
      },
      "source": [
        "To generate an array, we can use several different initialization functions:"
      ]
    },
    {
      "cell_type": "code",
      "metadata": {
        "id": "UWI4KL_Dr4hE",
        "colab_type": "code",
        "colab": {
          "base_uri": "https://localhost:8080/",
          "height": 72
        },
        "outputId": "8e69f958-dcf0-430b-88b2-05338f87f75b"
      },
      "source": [
        "# intitialize with zeros\n",
        "np.zeros((3, 5))"
      ],
      "execution_count": 15,
      "outputs": [
        {
          "output_type": "execute_result",
          "data": {
            "text/plain": [
              "array([[0., 0., 0., 0., 0.],\n",
              "       [0., 0., 0., 0., 0.],\n",
              "       [0., 0., 0., 0., 0.]])"
            ]
          },
          "metadata": {
            "tags": []
          },
          "execution_count": 15
        }
      ]
    },
    {
      "cell_type": "code",
      "metadata": {
        "id": "Cj9JIedKsVGN",
        "colab_type": "code",
        "colab": {
          "base_uri": "https://localhost:8080/",
          "height": 54
        },
        "outputId": "9f8c4c12-d7ac-4747-d1f7-0283aacda245"
      },
      "source": [
        "# initialize with ones\n",
        "np.ones((2, 7))"
      ],
      "execution_count": 8,
      "outputs": [
        {
          "output_type": "execute_result",
          "data": {
            "text/plain": [
              "array([[1., 1., 1., 1., 1., 1., 1.],\n",
              "       [1., 1., 1., 1., 1., 1., 1.]])"
            ]
          },
          "metadata": {
            "tags": []
          },
          "execution_count": 8
        }
      ]
    },
    {
      "cell_type": "code",
      "metadata": {
        "id": "YQwtR0zBsabL",
        "colab_type": "code",
        "colab": {
          "base_uri": "https://localhost:8080/",
          "height": 90
        },
        "outputId": "20b47852-ef73-4b39-aee0-45948dfe8801"
      },
      "source": [
        "# initialize with random values\n",
        "np.random.rand(4, 4)"
      ],
      "execution_count": 16,
      "outputs": [
        {
          "output_type": "execute_result",
          "data": {
            "text/plain": [
              "array([[0.58767327, 0.31160872, 0.91623106, 0.40050826],\n",
              "       [0.37845213, 0.97609136, 0.41640783, 0.50662324],\n",
              "       [0.73870304, 0.43114492, 0.66693378, 0.28086474],\n",
              "       [0.39435176, 0.89701862, 0.43170388, 0.87600883]])"
            ]
          },
          "metadata": {
            "tags": []
          },
          "execution_count": 16
        }
      ]
    },
    {
      "cell_type": "markdown",
      "metadata": {
        "id": "R3jbq1BouarO",
        "colab_type": "text"
      },
      "source": [
        "In NumPy, you can use several operators for easy array calculations."
      ]
    },
    {
      "cell_type": "code",
      "metadata": {
        "id": "B1iP_j2ftVkZ",
        "colab_type": "code",
        "colab": {}
      },
      "source": [
        "a = np.array([4, 5, 6])\n",
        "b = np.array([2, 4, 7])"
      ],
      "execution_count": 0,
      "outputs": []
    },
    {
      "cell_type": "code",
      "metadata": {
        "id": "8en_DnD8u2uR",
        "colab_type": "code",
        "colab": {
          "base_uri": "https://localhost:8080/",
          "height": 35
        },
        "outputId": "abdb60e2-1822-4614-8dd4-e90a833b3b87"
      },
      "source": [
        "# Addition\n",
        "a + b"
      ],
      "execution_count": 24,
      "outputs": [
        {
          "output_type": "execute_result",
          "data": {
            "text/plain": [
              "array([ 6,  9, 13])"
            ]
          },
          "metadata": {
            "tags": []
          },
          "execution_count": 24
        }
      ]
    },
    {
      "cell_type": "code",
      "metadata": {
        "id": "0tcHb7VyvKLq",
        "colab_type": "code",
        "colab": {
          "base_uri": "https://localhost:8080/",
          "height": 35
        },
        "outputId": "9a626b7e-594d-4717-df8c-e57a3cd45a82"
      },
      "source": [
        "# Element-wise multiplication\n",
        "a * b"
      ],
      "execution_count": 25,
      "outputs": [
        {
          "output_type": "execute_result",
          "data": {
            "text/plain": [
              "array([ 8, 20, 42])"
            ]
          },
          "metadata": {
            "tags": []
          },
          "execution_count": 25
        }
      ]
    },
    {
      "cell_type": "code",
      "metadata": {
        "id": "Zin8mMPMu7j5",
        "colab_type": "code",
        "colab": {
          "base_uri": "https://localhost:8080/",
          "height": 35
        },
        "outputId": "f22c45e2-25af-4de4-e23f-76adce06d235"
      },
      "source": [
        "# Multiplication with scalar\n",
        "a * 2"
      ],
      "execution_count": 26,
      "outputs": [
        {
          "output_type": "execute_result",
          "data": {
            "text/plain": [
              "array([ 8, 10, 12])"
            ]
          },
          "metadata": {
            "tags": []
          },
          "execution_count": 26
        }
      ]
    },
    {
      "cell_type": "code",
      "metadata": {
        "id": "Ebrv8OMcvbjf",
        "colab_type": "code",
        "colab": {
          "base_uri": "https://localhost:8080/",
          "height": 72
        },
        "outputId": "ae29d73b-9ea4-4812-8057-ed76a99dea24"
      },
      "source": [
        "# Logical operations\n",
        "print(a > b)\n",
        "print(a < 5)\n",
        "print(b == 4)"
      ],
      "execution_count": 33,
      "outputs": [
        {
          "output_type": "stream",
          "text": [
            "[ True  True False]\n",
            "[ True False False]\n",
            "[False  True False]\n"
          ],
          "name": "stdout"
        }
      ]
    },
    {
      "cell_type": "markdown",
      "metadata": {
        "id": "xnLdfjuXwWL8",
        "colab_type": "text"
      },
      "source": [
        "Also, there are many useful functions:"
      ]
    },
    {
      "cell_type": "code",
      "metadata": {
        "id": "NjyYJ0xGvjqI",
        "colab_type": "code",
        "colab": {
          "base_uri": "https://localhost:8080/",
          "height": 72
        },
        "outputId": "25447557-5718-4601-e660-46ea17bc7997"
      },
      "source": [
        "print(a.min())\n",
        "print(a.max())\n",
        "print(a.sum())"
      ],
      "execution_count": 36,
      "outputs": [
        {
          "output_type": "stream",
          "text": [
            "4\n",
            "6\n",
            "15\n"
          ],
          "name": "stdout"
        }
      ]
    },
    {
      "cell_type": "markdown",
      "metadata": {
        "id": "9r_JLEYcw81r",
        "colab_type": "text"
      },
      "source": [
        "Indexing works in the same way as pythons lists:"
      ]
    },
    {
      "cell_type": "code",
      "metadata": {
        "id": "ZjXfO_oxway9",
        "colab_type": "code",
        "colab": {
          "base_uri": "https://localhost:8080/",
          "height": 35
        },
        "outputId": "895bc3d3-64cf-49fa-aa67-253e8442b5e5"
      },
      "source": [
        "a[1]"
      ],
      "execution_count": 37,
      "outputs": [
        {
          "output_type": "execute_result",
          "data": {
            "text/plain": [
              "5"
            ]
          },
          "metadata": {
            "tags": []
          },
          "execution_count": 37
        }
      ]
    },
    {
      "cell_type": "markdown",
      "metadata": {
        "id": "T_9XmsaVxHzO",
        "colab_type": "text"
      },
      "source": [
        "You can also get a slice of the array:"
      ]
    },
    {
      "cell_type": "code",
      "metadata": {
        "id": "AHkjQZidxF1U",
        "colab_type": "code",
        "colab": {
          "base_uri": "https://localhost:8080/",
          "height": 35
        },
        "outputId": "255947b0-c481-403b-8319-f48266af7612"
      },
      "source": [
        "a[:2]"
      ],
      "execution_count": 38,
      "outputs": [
        {
          "output_type": "execute_result",
          "data": {
            "text/plain": [
              "array([4, 5])"
            ]
          },
          "metadata": {
            "tags": []
          },
          "execution_count": 38
        }
      ]
    }
  ]
}