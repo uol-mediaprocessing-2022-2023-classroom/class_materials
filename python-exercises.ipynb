{
  "nbformat": 4,
  "nbformat_minor": 0,
  "metadata": {
    "colab": {
      "name": "python-exercises.ipynb",
      "provenance": [],
      "collapsed_sections": [],
      "include_colab_link": true
    },
    "kernelspec": {
      "name": "python3",
      "display_name": "Python 3"
    }
  },
  "cells": [
    {
      "cell_type": "markdown",
      "metadata": {
        "id": "view-in-github",
        "colab_type": "text"
      },
      "source": [
        "<a href=\"https://colab.research.google.com/github/uol-mediaprocessing/notebooks/blob/master/python-exercises.ipynb\" target=\"_parent\"><img src=\"https://colab.research.google.com/assets/colab-badge.svg\" alt=\"Open In Colab\"/></a>"
      ]
    },
    {
      "cell_type": "markdown",
      "metadata": {
        "id": "57KQynln52P1",
        "colab_type": "text"
      },
      "source": [
        "# Python Exercises"
      ]
    },
    {
      "cell_type": "markdown",
      "metadata": {
        "id": "I3IplaBptZd2",
        "colab_type": "text"
      },
      "source": [
        "## 1 - Calculate the average of the following array"
      ]
    },
    {
      "cell_type": "code",
      "metadata": {
        "id": "1XlH1Z9Xqbna",
        "colab_type": "code",
        "colab": {}
      },
      "source": [
        "array = [2, 6, 4, 8, 7, 3, 4]"
      ],
      "execution_count": 0,
      "outputs": []
    },
    {
      "cell_type": "code",
      "metadata": {
        "id": "1BJ6whcN7vX9",
        "colab_type": "code",
        "colab": {}
      },
      "source": [
        ""
      ],
      "execution_count": 0,
      "outputs": []
    },
    {
      "cell_type": "markdown",
      "metadata": {
        "id": "iVIZCq6L7zLk",
        "colab_type": "text"
      },
      "source": [
        "## 2 - Concatenate the two following arrays."
      ]
    },
    {
      "cell_type": "code",
      "metadata": {
        "id": "TXoM_XpSLdG8",
        "colab_type": "code",
        "colab": {}
      },
      "source": [
        "array_1 = [2, 6, 13]\n",
        "array_2 = [9, 8, 12, 42]"
      ],
      "execution_count": 0,
      "outputs": []
    },
    {
      "cell_type": "code",
      "metadata": {
        "id": "QYSUAPzyhluD",
        "colab_type": "code",
        "colab": {}
      },
      "source": [
        ""
      ],
      "execution_count": 0,
      "outputs": []
    },
    {
      "cell_type": "markdown",
      "metadata": {
        "id": "dJBKGRFy1Lnc",
        "colab_type": "text"
      },
      "source": [
        "## 3 - NumPy arrays as images"
      ]
    },
    {
      "cell_type": "code",
      "metadata": {
        "id": "acIHte0ZG0Nr",
        "colab_type": "code",
        "colab": {}
      },
      "source": [
        "import numpy as np\n",
        "import matplotlib.pyplot as plt"
      ],
      "execution_count": 0,
      "outputs": []
    },
    {
      "cell_type": "markdown",
      "metadata": {
        "id": "E1HQvNNanpEk",
        "colab_type": "text"
      },
      "source": [
        "##### **3.1** Create a black image with 100x100 pixels (**numpy** array of zeros)"
      ]
    },
    {
      "cell_type": "code",
      "metadata": {
        "id": "PvtVtInZoN0N",
        "colab_type": "code",
        "colab": {}
      },
      "source": [
        ""
      ],
      "execution_count": 0,
      "outputs": []
    },
    {
      "cell_type": "markdown",
      "metadata": {
        "id": "9r9GP-6HMOFz",
        "colab_type": "text"
      },
      "source": [
        "##### **3.2** Set the top-right 50x50 pixels of the image to white (255)\n"
      ]
    },
    {
      "cell_type": "code",
      "metadata": {
        "id": "hFDabNKUMRA3",
        "colab_type": "code",
        "colab": {}
      },
      "source": [
        ""
      ],
      "execution_count": 0,
      "outputs": []
    },
    {
      "cell_type": "markdown",
      "metadata": {
        "id": "dcxX6KskMUie",
        "colab_type": "text"
      },
      "source": [
        "##### **3.3** Display the image with **matplotlib**"
      ]
    },
    {
      "cell_type": "code",
      "metadata": {
        "id": "D7HwFM-VcswL",
        "colab_type": "code",
        "colab": {}
      },
      "source": [
        ""
      ],
      "execution_count": 0,
      "outputs": []
    },
    {
      "cell_type": "markdown",
      "metadata": {
        "id": "csDzmpIiMWnD",
        "colab_type": "text"
      },
      "source": [
        "##### **3.4** Draw a circle in the center of the image (50 pixel diameter)"
      ]
    },
    {
      "cell_type": "code",
      "metadata": {
        "id": "36-dojVBMnqR",
        "colab_type": "code",
        "colab": {}
      },
      "source": [
        ""
      ],
      "execution_count": 0,
      "outputs": []
    },
    {
      "cell_type": "markdown",
      "metadata": {
        "id": "UUuLfIRxZqn3",
        "colab_type": "text"
      },
      "source": [
        "## 4 - OpenCV Images"
      ]
    },
    {
      "cell_type": "markdown",
      "metadata": {
        "id": "pZFoU3Ggnj-l",
        "colab_type": "text"
      },
      "source": [
        "##### **4.1** Load the image from this URL: https://raw.githubusercontent.com/uol-mediaprocessing/notebooks/master/pictures/image36.jpg"
      ]
    },
    {
      "cell_type": "code",
      "metadata": {
        "id": "LeoY12P4cT-Y",
        "colab_type": "code",
        "colab": {}
      },
      "source": [
        ""
      ],
      "execution_count": 0,
      "outputs": []
    },
    {
      "cell_type": "markdown",
      "metadata": {
        "id": "2E8Hqz7qbWNm",
        "colab_type": "text"
      },
      "source": [
        "##### **4.2** Convert the image from the BGR format to RGB"
      ]
    },
    {
      "cell_type": "code",
      "metadata": {
        "id": "qUZddefDbJi3",
        "colab_type": "code",
        "colab": {}
      },
      "source": [
        ""
      ],
      "execution_count": 0,
      "outputs": []
    },
    {
      "cell_type": "markdown",
      "metadata": {
        "id": "ih6CdDhGd7HY",
        "colab_type": "text"
      },
      "source": [
        "##### **4.3** Display the image with **matplotlib**"
      ]
    },
    {
      "cell_type": "code",
      "metadata": {
        "id": "lioNJvXRd6KJ",
        "colab_type": "code",
        "colab": {}
      },
      "source": [
        ""
      ],
      "execution_count": 0,
      "outputs": []
    },
    {
      "cell_type": "markdown",
      "metadata": {
        "id": "kov9yfPmeHXc",
        "colab_type": "text"
      },
      "source": [
        "##### **4.4** Display the **red** channel in grayscale with **matplotlib**"
      ]
    },
    {
      "cell_type": "code",
      "metadata": {
        "id": "gWnwaevqeE7W",
        "colab_type": "code",
        "colab": {}
      },
      "source": [
        ""
      ],
      "execution_count": 0,
      "outputs": []
    }
  ]
}